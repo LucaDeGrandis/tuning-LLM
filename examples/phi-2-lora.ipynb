{
 "cells": [
  {
   "cell_type": "code",
   "execution_count": null,
   "metadata": {},
   "outputs": [],
   "source": [
    "%%bash\n",
    "\n",
    "cd scripts\n",
    "\n",
    "EPOCHS=16\n",
    "LR=2e-4\n",
    "PACKING=True\n",
    "\n",
    "python \"train-phi-2-lora.py\" \\\n",
    "    --training_data_path \"/your/data/folder/train.jsonl\" \\\n",
    "    --dev_data_path \"/your/data/folder/dev.jsonl\" \\\n",
    "    --model_name \"microsoft/phi-2\" \\\n",
    "    --max_seq_len 2048 \\\n",
    "    --bf16 True \\\n",
    "    --max_steps -1 \\\n",
    "    --num_train_epochs $EPOCHS \\\n",
    "    --logging_steps 5 \\\n",
    "    --output_dir \"/your/output/folder/lora-ep\"$EPOCHS\"-lr\"$LR\"-packing\"$PACKING\"/training\" \\\n",
    "    --save_to \"/your/output/folder/lora-ep\"$EPOCHS\"-lr\"$LR\"-packing\"$PACKING\"/model\" \\\n",
    "    --per_device_eval_batch_size 1 \\\n",
    "    --per_device_train_batch_size 8 \\\n",
    "    --gradient_accumulation_steps 2 \\\n",
    "    --lr_scheduler_type \"linear\" \\\n",
    "    --use_flash_attn True \\\n",
    "    --packing $PACKING \\\n",
    "    --report_to 'wandb' \\\n",
    "    --wandb_project 'phi2-example' \\\n",
    "    --wandb_run_name \"lora-ep\"$EPOCHS\"-lr\"$LR\"-packing\"$PACKING \\\n",
    "    --gradient_checkpointing True \\\n",
    "    --use_reentrant False \\\n",
    "    --evaluation_strategy \"epoch\" \\\n",
    "    --save_strategy \"no\" \\\n",
    "    --learning_rate $LR \\\n",
    "    --use_peft_lora True \\\n",
    "    --lora_dropout 0.05 \\\n",
    "    --lora_alpha 8 \\\n",
    "    --seed 114"
   ]
  }
 ],
 "metadata": {
  "kernelspec": {
   "display_name": "llama_multi_gpu",
   "language": "python",
   "name": "python3"
  },
  "language_info": {
   "codemirror_mode": {
    "name": "ipython",
    "version": 3
   },
   "file_extension": ".py",
   "mimetype": "text/x-python",
   "name": "python",
   "nbconvert_exporter": "python",
   "pygments_lexer": "ipython3",
   "version": "3.10.14"
  }
 },
 "nbformat": 4,
 "nbformat_minor": 2
}
